{
 "cells": [
  {
   "cell_type": "code",
   "execution_count": 3,
   "id": "893c0661-1146-4c6a-a283-cfb2bb9b9de3",
   "metadata": {},
   "outputs": [],
   "source": [
    "from pyspark import SparkConf, SparkContext\n",
    "from pyspark.sql import SparkSession, functions as f\n",
    "from pyspark.sql.types import *\n",
    "from pyspark.sql.functions import *\n",
    "from pyspark.ml.classification import LogisticRegression\n",
    "from pyspark.ml.feature import OneHotEncoder, StringIndexer, VectorAssembler\n",
    "from pyspark.ml import Pipeline\n",
    "import pandas as pd\n",
    "import sqlalchemy as db\n",
    "import mysql.connector\n",
    "\n",
    "\n",
    "spark = SparkSession.builder.appName(\"hockey\").config(\"spark.some.config.option\", \"some-value\").getOrCreate()\n",
    "\n",
    "df = pd.read_csv(\"sportTweets.csv\")\n",
    "\n",
    "# specify database configurations\n",
    "db_connection = mysql.connector.connect(host = 'database',\n",
    "                                        port = 3306, \n",
    "                                        user = 'symfony', \n",
    "                                        passwd = 'symfony', \n",
    "                                        db = 'symfony_docker')\n",
    "\n",
    "# create and use a new database\n",
    "db_cursor = db_connection.cursor()\n",
    "db_cursor.execute(\"USE symfony_docker;\")\n",
    "\n",
    "#db_cursor.execute(\"CREATE TABLE Statistics(year YEAR, count INT);\")\n",
    "\n",
    "\n",
    "\n",
    "sparkDF = spark.createDataFrame(df)\n",
    "tweets_2021 = sparkDF.filter(sparkDF['Date'] >= '2021-01-01')\n",
    "tweets_2020 = sparkDF.filter((sparkDF['Date']>='2020-01-01') & (sparkDF['Date']<='2020-12-31'))\n",
    "tweets_2019 = sparkDF.filter((sparkDF['Date']>='2019-01-01') & (sparkDF['Date']<='2019-12-31'))\n",
    "\n",
    "num_of_hockey_tweets_2021 = tweets_2021.selectExpr(\"lower(Tweet) as lower\")\\\n",
    ".withColumn(\"cleaned\", f.regexp_replace(f.col(\"lower\"),\"[^a-z |*]\", \" \"))\\\n",
    ".filter(col(\"cleaned\").contains(\"hockey\"))\\\n",
    ".count()\n",
    "num_of_hockey_tweets_2020 = tweets_2020.selectExpr(\"lower(Tweet) as lower\")\\\n",
    ".withColumn(\"cleaned\", f.regexp_replace(f.col(\"lower\"),\"[^a-z |*]\", \" \"))\\\n",
    ".filter(col(\"cleaned\").contains(\"hockey\"))\\\n",
    ".count()\n",
    "num_of_hockey_tweets_2019 = tweets_2019.selectExpr(\"lower(Tweet) as lower\")\\\n",
    ".withColumn(\"cleaned\", f.regexp_replace(f.col(\"lower\"),\"[^a-z |*]\", \" \"))\\\n",
    ".filter(col(\"cleaned\").contains(\"hockey\"))\\\n",
    ".count()\n",
    "\n",
    "columns = ['Period', 'Count']\n",
    "data = [('2019', num_of_hockey_tweets_2019),('2020', num_of_hockey_tweets_2020),('2021', num_of_hockey_tweets_2021)]\n",
    "\n",
    "sql = \"INSERT INTO Statistics(year,count) VALUES(%s, %s)\"\n",
    "# Create a new record\n",
    "db_cursor.executemany(sql,data)\n",
    "\n",
    "# connection is not autocommit by default. So we must commit to save our changes.\n",
    "db_connection.commit()\n",
    "\n",
    "#rdd = spark.createDataFrame(data).toDF(*columns)\n",
    "#rdd.toPandas().to_csv('numOfHockeyTweets19-21.csv')"
   ]
  },
  {
   "cell_type": "code",
   "execution_count": 2,
   "id": "57fe26f1-a06a-43fa-af73-23b2f3770547",
   "metadata": {},
   "outputs": [
    {
     "name": "stdout",
     "output_type": "stream",
     "text": [
      "Collecting pymysql\n",
      "  Downloading PyMySQL-1.0.2-py3-none-any.whl (43 kB)\n",
      "\u001b[2K     \u001b[90m━━━━━━━━━━━━━━━━━━━━━━━━━━━━━━━━━━━━━━━━\u001b[0m \u001b[32m43.8/43.8 KB\u001b[0m \u001b[31m1.6 MB/s\u001b[0m eta \u001b[36m0:00:00\u001b[0m\n",
      "\u001b[?25hInstalling collected packages: pymysql\n",
      "Successfully installed pymysql-1.0.2\n",
      "Note: you may need to restart the kernel to use updated packages.\n"
     ]
    }
   ],
   "source": [
    "pip install pymysql"
   ]
  },
  {
   "cell_type": "code",
   "execution_count": 1,
   "id": "7cf92107-87e8-4f44-be70-9a0b47a0fa9d",
   "metadata": {},
   "outputs": [
    {
     "name": "stdout",
     "output_type": "stream",
     "text": [
      "Collecting mysql-connector-python\n",
      "  Downloading mysql_connector_python-8.0.29-cp39-cp39-manylinux1_x86_64.whl (25.2 MB)\n",
      "\u001b[2K     \u001b[90m━━━━━━━━━━━━━━━━━━━━━━━━━━━━━━━━━━━━━━━━\u001b[0m \u001b[32m25.2/25.2 MB\u001b[0m \u001b[31m10.8 MB/s\u001b[0m eta \u001b[36m0:00:00\u001b[0m00:01\u001b[0m00:01\u001b[0m\n",
      "\u001b[?25hRequirement already satisfied: protobuf>=3.0.0 in /opt/conda/lib/python3.9/site-packages (from mysql-connector-python) (3.19.4)\n",
      "Installing collected packages: mysql-connector-python\n",
      "Successfully installed mysql-connector-python-8.0.29\n",
      "Note: you may need to restart the kernel to use updated packages.\n"
     ]
    }
   ],
   "source": [
    "pip install mysql-connector-python"
   ]
  },
  {
   "cell_type": "code",
   "execution_count": 61,
   "id": "fc885082-5678-431a-8893-991550946492",
   "metadata": {},
   "outputs": [
    {
     "name": "stdout",
     "output_type": "stream",
     "text": [
      "+-----------+-----+\n",
      "|      words|count|\n",
      "+-----------+-----+\n",
      "|      https|  275|\n",
      "|     hockey|  201|\n",
      "|      women|   82|\n",
      "|      tokyo|   81|\n",
      "|      watch|   68|\n",
      "|bbcolympics|   60|\n",
      "|      great|   51|\n",
      "|    britain|   49|\n",
      "|      their|   47|\n",
      "|     teamgb|   43|\n",
      "+-----------+-----+\n",
      "\n"
     ]
    },
    {
     "data": {
      "text/plain": [
       "Text(0.5, 0, 'Count of words')"
      ]
     },
     "execution_count": 61,
     "metadata": {},
     "output_type": "execute_result"
    },
    {
     "data": {
      "image/png": "[encoded data removed]",
      "text/plain": [
       "<Figure size 640x480 with 1 Axes>"
      ]
     },
     "metadata": {},
     "output_type": "display_data"
    }
   ],
   "source": [
    "import matplotlib.pyplot as plt; plt.rcdefaults()\n",
    "import numpy as np\n",
    "import matplotlib.pyplot as plt\n",
    "import seaborn as sns\n",
    "import numpy as np\n",
    "\n",
    "wordsHockeyTweets = sparkDF.selectExpr(\"lower(Tweet) as lowerTweets\")\\\n",
    ".withColumn(\"cleaned\", f.regexp_replace(f.col(\"lowerTweets\"), \"[^a-z |*]\", \"  \"))\\\n",
    ".filter(col(\"cleaned\").contains(\"hockey\"))\\\n",
    ".select(\"*\", f.expr(\"split(cleaned, ' ') splitted\"))\\\n",
    ".select(f.explode(f.col(\"splitted\")).alias(\"words\"))\\\n",
    ".where(\"length(words)>4\")\\\n",
    ".groupBy(\"words\").count()\\\n",
    ".orderBy(f.desc(\"count\")).limit(10)\n",
    "wordsHockeyTweets.show()\n",
    "\n",
    "y = wordsHockeyTweets.toPandas()[\"words\"].values.tolist()\n",
    "x = wordsHockeyTweets.toPandas()[\"count\"].index.tolist()\n",
    "#plt.bar(x, y)\n",
    "plt.title('Top Words in Hockey Tweets')\n",
    "plt.ylabel('Word from tweet', fontsize = 10)\n",
    "plt.xlabel('Count of words', fontsize = 10)\n",
    "#plt.show()\n",
    "\n",
    "#wordsHockeyTweets = wordsHockeyTweets.iloc[:20,]\n",
    "#plt.figure(figsize=(10,5))\n",
    "#sns.barplot(wordsHockeyTweets.values, wordsHockeyTweets.index, alpha=0.8)\n",
    "#plt.title('Top Words in Hockey Tweets')\n",
    "#plt.ylabel('Word from tweet', fontsize = 12)\n",
    "#plt.xlabel('Count of words', fontsize = 12)\n",
    "#plt.show()\n",
    "\n",
    "#Creating Visualization\n",
    "#fig = plt.pie(wordsInHockeyTweets['words'], autopct='%1.1f%%', startangle=140,labels=wordsInHockeyTweets['words'])\n",
    "#plt.title('Visualization of words')\n",
    "#plt.show()"
   ]
  },
  {
   "cell_type": "code",
   "execution_count": null,
   "id": "1f0ebac7-8749-4eac-a32e-108c6663ab55",
   "metadata": {},
   "outputs": [],
   "source": [
    "\n",
    "config = {\n",
    "    'host': 'localhost',\n",
    "    'port': 3306,\n",
    "    'user': 'symfony',\n",
    "    'password': 'symfony',\n",
    "    'database': 'symfony_docker'\n",
    "}\n",
    "db_user = config.get('user')\n",
    "db_pwd = config.get('password')\n",
    "db_host = config.get('host')\n",
    "db_port = config.get('port')\n",
    "db_name = config.get('database')\n",
    "# specify connection string\n",
    "connection_str = f'mysql+pymysql://{db_user}:{db_pwd}@{db_host}:{db_port}/{db_name}'\n",
    "# connect to database\n",
    "engine = db.create_engine(connection_str)\n",
    "connection = engine.connect()\n",
    "\n",
    "# Convert Pandas dataframe to spark DataFrame\n",
    "df = spark.createDataFrame(pdf)\n",
    "\n",
    "df.show()"
   ]
  },
  {
   "cell_type": "code",
   "execution_count": null,
   "id": "12109a95-51e4-49e0-847e-5114d734b78f",
   "metadata": {},
   "outputs": [],
   "source": []
  }
 ],
 "metadata": {
  "kernelspec": {
   "display_name": "Python 3 (ipykernel)",
   "language": "python",
   "name": "python3"
  },
  "language_info": {
   "codemirror_mode": {
    "name": "ipython",
    "version": 3
   },
   "file_extension": ".py",
   "mimetype": "text/x-python",
   "name": "python",
   "nbconvert_exporter": "python",
   "pygments_lexer": "ipython3",
   "version": "3.9.10"
  }
 },
 "nbformat": 4,
 "nbformat_minor": 5
}
